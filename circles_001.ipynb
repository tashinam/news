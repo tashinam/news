{
  "nbformat": 4,
  "nbformat_minor": 0,
  "metadata": {
    "kernelspec": {
      "display_name": "Python 3",
      "language": "python",
      "name": "python3"
    },
    "language_info": {
      "codemirror_mode": {
        "name": "ipython",
        "version": 3
      },
      "file_extension": ".py",
      "mimetype": "text/x-python",
      "name": "python",
      "nbconvert_exporter": "python",
      "pygments_lexer": "ipython3",
      "version": "3.8.5"
    },
    "colab": {
      "name": "Circle.ipynb",
      "provenance": [],
      "collapsed_sections": [],
      "include_colab_link": true
    }
  },
  "cells": [
    {
      "cell_type": "markdown",
      "metadata": {
        "id": "view-in-github",
        "colab_type": "text"
      },
      "source": [
        "<a href=\"https://colab.research.google.com/github/tashinam/news/blob/main/circles_001.ipynb\" target=\"_parent\"><img src=\"https://colab.research.google.com/assets/colab-badge.svg\" alt=\"Open In Colab\"/></a>"
      ]
    },
    {
      "cell_type": "code",
      "metadata": {
        "id": "IcZ8Ckdl9zyo",
        "cellView": "form"
      },
      "source": [
        "#@title Import Data\n",
        "\n",
        "%%capture\n",
        "\n",
        "!git clone https://github.com/tashinam/news.git\n",
        "\n",
        "%matplotlib notebook\n",
        "\n",
        "import matplotlib.pyplot as plt\n",
        "import matplotlib.patches as patches\n",
        "from matplotlib.collections import PatchCollection\n",
        "from mpl_toolkits.axes_grid1 import Divider, Size\n",
        "import numpy as np\n",
        "import pandas as pd\n",
        "\n",
        "\n",
        "counts = pd.read_csv('/content/news/p_001.csv')"
      ],
      "execution_count": 4,
      "outputs": []
    },
    {
      "cell_type": "code",
      "metadata": {
        "id": "2Chk74m3XgDT",
        "cellView": "form"
      },
      "source": [
        "#@title Settings\n",
        "\n",
        "target_input = int(input('How many articles would you like to view per week? \\n'))\n",
        "print(f\"If this is incorrect, please press the 'play' symbol again\")\n",
        "\n",
        "max_target_r = 12.5\n",
        "min_target_r = 2.5\n",
        "target_r_diff = max_target_r - min_target_r\n",
        "\n",
        "max_count_r = 12.5\n",
        "min_count_r = 2.5\n",
        "count_r_diff = max_count_r - min_count_r\n",
        "\n",
        "left_count = counts.iloc[0]['left_count']\n",
        "right_count = counts.iloc[0]['right_count']\n",
        "total_count = left_count+right_count\n",
        "left_target = target_input//2\n",
        "right_target = target_input//2\n",
        "#left_target = 5\n",
        "#right_target = 10\n",
        "total_target = left_target+right_target\n",
        "\n",
        "lc = left_count * count_r_diff + min_count_r\n",
        "rc = right_count * count_r_diff + min_count_r\n",
        "lt = left_target * target_r_diff + min_target_r\n",
        "rt = right_target * target_r_diff + min_target_r\n",
        "\n",
        "total = total_count+total_target\n",
        "\n",
        "count = total_count/total\n",
        "target = total_target/total\n",
        "left = (left_count+left_target)/total\n",
        "right = (right_count+right_target)/total\n",
        "\n",
        "# lcs = (left_count / total_count)\n",
        "# rcs = (right_count / total_count)\n",
        "# lts = (left_target / total_target)\n",
        "# rts = (right_target / total_target)\n",
        "# lct = (left_count/left_target)\n",
        "# rct = (right_count/right_target)\n",
        "\n",
        "# lcs = left_count/total\n",
        "# rcs = right_count/total\n",
        "# lts = left_target/total\n",
        "# rts = right_target/total\n",
        "\n",
        "lcs = lc/total\n",
        "rcs = rc/total\n",
        "lts = lt/total\n",
        "rts = rt/total\n",
        "\n",
        "\n",
        "left_count_size = lcs #* count * left * 50 # * count_r_diff + min_count_r\n",
        "right_count_size = rcs #* count * right * 50# * count_r_diff + min_count_r\n",
        "\n",
        "left_target_size = lts #* target * left * 50# * target_r_diff + min_target_r\n",
        "right_target_size = rts #* target * right * 50# * target_r_diff + min_target_r\n",
        "                \n",
        "# print(lcs, rcs)\n",
        "# print(lts, rts)\n",
        "\n",
        "# print(count, target)\n",
        "# print(left, right)\n",
        "# print(left_count_size, right_count_size)\n",
        "# print(left_target_size, right_target_size)"
      ],
      "execution_count": null,
      "outputs": []
    },
    {
      "cell_type": "code",
      "metadata": {
        "scrolled": true,
        "id": "d7fMA0hpUHRt",
        "cellView": "form"
      },
      "source": [
        "#@title Show Circles\n",
        "fig = plt.figure(figsize=(4,4),dpi=100)\n",
        "ax = fig.add_subplot()\n",
        "\n",
        "ax.set_xlim([0, 50])\n",
        "ax.set_ylim([0, 50])\n",
        "\n",
        "ax.axes.xaxis.set_ticks([])\n",
        "ax.axes.yaxis.set_ticks([])\n",
        "\n",
        "lw_text = ax.text(0.05, 1.05,'left wing', ha=\"left\",va=\"center\", color='black', fontsize=\"medium\", transform=ax.transAxes)\n",
        "rw_text = ax.text(0.95, 1.05,'right wing', ha=\"right\",va=\"center\", color='black', fontsize=\"medium\", transform=ax.transAxes)\n",
        "        \n",
        "l_count = ax.text(0.25, 0.5,f'{left_count}', ha=\"center\",va=\"center\", color='black', fontsize=\"medium\", transform=ax.transAxes,zorder=2000)\n",
        "r_count = ax.text(0.75, 0.5,f'{right_count}', ha=\"center\",va=\"center\", color='black', fontsize=\"medium\", transform=ax.transAxes,zorder=2000)\n",
        "\n",
        "l_target = ax.text(0.25, 0.05,f'target: {left_target}', ha=\"center\",va=\"center\", color='grey', fontsize=\"medium\", transform=ax.transAxes)\n",
        "r_target = ax.text(0.75, 0.05,f'target: {right_target}', ha=\"center\",va=\"center\", color='grey', fontsize=\"medium\", transform=ax.transAxes)\n",
        "\n",
        "\n",
        "left_circle = patches.Circle(xy=(12.5,25), radius=left_count_size*2, fc='y', lw=None, zorder=100)\n",
        "right_circle = patches.Circle(xy=(37.5,25), radius=right_count_size*2, fc='y', lw=None, zorder=100)\n",
        "\n",
        "left_goal = patches.Circle(xy=(12.5,25), radius=left_target_size*2, fill=False, ec='grey',zorder=100,ls='--')\n",
        "right_goal = patches.Circle(xy=(37.5,25), radius=right_target_size*2, fill=False, ec='grey',zorder=100,ls='--')\n",
        "\n",
        "\n",
        "ax.add_patch(left_circle)\n",
        "ax.add_patch(left_goal)\n",
        "ax.add_patch(right_circle)\n",
        "ax.add_patch(right_goal)\n",
        "\n",
        "centre_line = ax.axvline(25, 0, 1, c='k')\n",
        "\n",
        "plt.show()"
      ],
      "execution_count": null,
      "outputs": []
    }
  ]
}