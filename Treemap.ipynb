{
  "nbformat": 4,
  "nbformat_minor": 0,
  "metadata": {
    "colab": {
      "name": "Treemap.ipynb",
      "provenance": [],
      "collapsed_sections": [],
      "authorship_tag": "ABX9TyMnytLmYyXsvTzAu2reOT0D",
      "include_colab_link": true
    },
    "kernelspec": {
      "name": "python3",
      "display_name": "Python 3"
    },
    "language_info": {
      "name": "python"
    }
  },
  "cells": [
    {
      "cell_type": "markdown",
      "metadata": {
        "id": "view-in-github",
        "colab_type": "text"
      },
      "source": [
        "<a href=\"https://colab.research.google.com/github/tashinam/news/blob/main/Treemap.ipynb\" target=\"_parent\"><img src=\"https://colab.research.google.com/assets/colab-badge.svg\" alt=\"Open In Colab\"/></a>"
      ]
    },
    {
      "cell_type": "code",
      "metadata": {
        "id": "GDGAVcbdqqE9",
        "cellView": "form"
      },
      "source": [
        "#@title (Restart runtime after running this cell)\n",
        "%%capture\n",
        "!pip install plotly -U\n",
        "!git clone https://github.com/tashinam/news.git"
      ],
      "execution_count": 1,
      "outputs": []
    },
    {
      "cell_type": "code",
      "metadata": {
        "colab": {
          "base_uri": "https://localhost:8080/",
          "height": 542
        },
        "id": "WW1VZBdkrEuL",
        "cellView": "form",
        "outputId": "4c7b261f-b47a-40ee-9991-de4448ea3fe4"
      },
      "source": [
        "#@title Your News Topics\n",
        "import pandas as pd\n",
        "import plotly.express as px\n",
        "import numpy as np\n",
        "\n",
        "topics = pd.read_csv('/content/news/0002.csv')\n",
        "topics_df = pd.DataFrame.from_dict(topics)\n",
        "topics_df[\"news\"] = \"news\"\n",
        "fig = px.treemap(topics_df, path=['Topic 0','Topic 1', 'Topic 2', 'Topic 3'], values='Value')\n",
        "fig.show()"
      ],
      "execution_count": 2,
      "outputs": [
        {
          "output_type": "display_data",
          "data": {
            "text/html": [
              "<html>\n",
              "<head><meta charset=\"utf-8\" /></head>\n",
              "<body>\n",
              "    <div>            <script src=\"https://cdnjs.cloudflare.com/ajax/libs/mathjax/2.7.5/MathJax.js?config=TeX-AMS-MML_SVG\"></script><script type=\"text/javascript\">if (window.MathJax) {MathJax.Hub.Config({SVG: {font: \"STIX-Web\"}});}</script>                <script type=\"text/javascript\">window.PlotlyConfig = {MathJaxConfig: 'local'};</script>\n",
              "        <script src=\"https://cdn.plot.ly/plotly-latest.min.js\"></script>                <div id=\"acbe72bc-d809-49dc-8045-759ba9af3343\" class=\"plotly-graph-div\" style=\"height:525px; width:100%;\"></div>            <script type=\"text/javascript\">                                    window.PLOTLYENV=window.PLOTLYENV || {};                                    if (document.getElementById(\"acbe72bc-d809-49dc-8045-759ba9af3343\")) {                    Plotly.newPlot(                        \"acbe72bc-d809-49dc-8045-759ba9af3343\",                        [{\"branchvalues\": \"total\", \"domain\": {\"x\": [0.0, 1.0], \"y\": [0.0, 1.0]}, \"hovertemplate\": \"labels=%{label}<br>Value=%{value}<br>parent=%{parent}<br>id=%{id}<extra></extra>\", \"ids\": [\"Topics/News/World/Africa\", \"Topics/News/World/Americas\", \"Topics/News/World/Asia\", \"Topics/News/World/Australia\", \"Topics/News/Business/B2B\", \"Topics/News/Business/Banking\", \"Topics/News/Environment/Climate change\", \"Topics/News/Football/Clubs\", \"Topics/News/Football/Competitions\", \"Topics/News/Business/Economics\", \"Topics/News/UK/Education\", \"Topics/News/Environment/Energy\", \"Topics/News/World/Europe\", \"Topics/News/Football/Fixtures\", \"Topics/News/World/Global development\", \"Topics/News/World/Inequality\", \"Topics/News/UK/Law\", \"Topics/News/Football/Live scores\", \"Topics/News/Business/Markets\", \"Topics/News/UK/Media\", \"Topics/News/World/Middle East\", \"Topics/News/Business/Money\", \"Topics/News/UK/Northern Ireland\", \"Topics/News/Environment/Pollution\", \"Topics/News/Business/Project Syndicate\", \"Topics/News/Football/Results\", \"Topics/News/Business/Retail\", \"Topics/News/Education/Schools\", \"Topics/News/UK/Scotland\", \"Topics/News/UK/Society\", \"Topics/News/Education/Students\", \"Topics/News/Football/Tables\", \"Topics/News/Education/Teachers\", \"Topics/News/UK/UK politics\", \"Topics/News/World/US\", \"Topics/News/Education/Universities\", \"Topics/News/UK/Wales\", \"Topics/News/Environment/Wildlife\", \"Topics/Culture/Art & design\", \"Topics/Lifestyle/Beauty\", \"Topics/Culture/Books\", \"Topics/Sport/Boxing\", \"Topics/News/Business\", \"Topics/Lifestyle/Cars\", \"Topics/Opinion/Cartoons\", \"Topics/Culture/Classical\", \"Topics/Opinion/Columnists\", \"Topics/News/Coronavirus\", \"Topics/Sport/Cricket\", \"Topics/Sport/Cycling\", \"Topics/News/Education\", \"Topics/News/Environment\", \"Topics/Sport/F1\", \"Topics/Lifestyle/Fashion\", \"Topics/Culture/Film\", \"Topics/Lifestyle/Food\", \"Topics/News/Football\", \"Topics/Sport/Football\", \"Topics/Culture/Games\", \"Topics/News/Global development\", \"Topics/Sport/Golf\", \"Topics/Lifestyle/Health & fitness\", \"Topics/Lifestyle/Home & garden\", \"Topics/Opinion/Letters\", \"Topics/Lifestyle/Love & sex\", \"Topics/Lifestyle/Men\", \"Topics/Lifestyle/Money\", \"Topics/Culture/Music\", \"Topics/News/Obituaries\", \"Topics/Opinion/Opinion videos\", \"Topics/Sport/Racing\", \"Topics/Lifestyle/Recipes\", \"Topics/Sport/Rugby league\", \"Topics/Sport/Rugby union\", \"Topics/News/Science\", \"Topics/News/Society\", \"Topics/Culture/Stage\", \"Topics/Culture/TV & radio\", \"Topics/News/Tech\", \"Topics/Sport/Tennis\", \"Topics/Opinion/The Guardian view\", \"Topics/Lifestyle/Travel\", \"Topics/News/UK\", \"Topics/News/UK politics\", \"Topics/Sport/US sports\", \"Topics/Lifestyle/Women\", \"Topics/News/World\", \"Topics/Culture\", \"Topics/Lifestyle\", \"Topics/News\", \"Topics/Opinion\", \"Topics/Sport\", \"Topics\"], \"labels\": [\"Africa\", \"Americas\", \"Asia\", \"Australia\", \"B2B\", \"Banking\", \"Climate change\", \"Clubs\", \"Competitions\", \"Economics\", \"Education\", \"Energy\", \"Europe\", \"Fixtures\", \"Global development\", \"Inequality\", \"Law\", \"Live scores\", \"Markets\", \"Media\", \"Middle East\", \"Money\", \"Northern Ireland\", \"Pollution\", \"Project Syndicate\", \"Results\", \"Retail\", \"Schools\", \"Scotland\", \"Society\", \"Students\", \"Tables\", \"Teachers\", \"UK politics\", \"US\", \"Universities\", \"Wales\", \"Wildlife\", \"Art & design\", \"Beauty\", \"Books\", \"Boxing\", \"Business\", \"Cars\", \"Cartoons\", \"Classical\", \"Columnists\", \"Coronavirus\", \"Cricket\", \"Cycling\", \"Education\", \"Environment\", \"F1\", \"Fashion\", \"Film\", \"Food\", \"Football\", \"Football\", \"Games\", \"Global development\", \"Golf\", \"Health & fitness\", \"Home & garden\", \"Letters\", \"Love & sex\", \"Men\", \"Money\", \"Music\", \"Obituaries\", \"Opinion videos\", \"Racing\", \"Recipes\", \"Rugby league\", \"Rugby union\", \"Science\", \"Society\", \"Stage\", \"TV & radio\", \"Tech\", \"Tennis\", \"The Guardian view\", \"Travel\", \"UK\", \"UK politics\", \"US sports\", \"Women\", \"World\", \"Culture\", \"Lifestyle\", \"News\", \"Opinion\", \"Sport\", \"Topics\"], \"name\": \"\", \"parents\": [\"Topics/News/World\", \"Topics/News/World\", \"Topics/News/World\", \"Topics/News/World\", \"Topics/News/Business\", \"Topics/News/Business\", \"Topics/News/Environment\", \"Topics/News/Football\", \"Topics/News/Football\", \"Topics/News/Business\", \"Topics/News/UK\", \"Topics/News/Environment\", \"Topics/News/World\", \"Topics/News/Football\", \"Topics/News/World\", \"Topics/News/World\", \"Topics/News/UK\", \"Topics/News/Football\", \"Topics/News/Business\", \"Topics/News/UK\", \"Topics/News/World\", \"Topics/News/Business\", \"Topics/News/UK\", \"Topics/News/Environment\", \"Topics/News/Business\", \"Topics/News/Football\", \"Topics/News/Business\", \"Topics/News/Education\", \"Topics/News/UK\", \"Topics/News/UK\", \"Topics/News/Education\", \"Topics/News/Football\", \"Topics/News/Education\", \"Topics/News/UK\", \"Topics/News/World\", \"Topics/News/Education\", \"Topics/News/UK\", \"Topics/News/Environment\", \"Topics/Culture\", \"Topics/Lifestyle\", \"Topics/Culture\", \"Topics/Sport\", \"Topics/News\", \"Topics/Lifestyle\", \"Topics/Opinion\", \"Topics/Culture\", \"Topics/Opinion\", \"Topics/News\", \"Topics/Sport\", \"Topics/Sport\", \"Topics/News\", \"Topics/News\", \"Topics/Sport\", \"Topics/Lifestyle\", \"Topics/Culture\", \"Topics/Lifestyle\", \"Topics/News\", \"Topics/Sport\", \"Topics/Culture\", \"Topics/News\", \"Topics/Sport\", \"Topics/Lifestyle\", \"Topics/Lifestyle\", \"Topics/Opinion\", \"Topics/Lifestyle\", \"Topics/Lifestyle\", \"Topics/Lifestyle\", \"Topics/Culture\", \"Topics/News\", \"Topics/Opinion\", \"Topics/Sport\", \"Topics/Lifestyle\", \"Topics/Sport\", \"Topics/Sport\", \"Topics/News\", \"Topics/News\", \"Topics/Culture\", \"Topics/Culture\", \"Topics/News\", \"Topics/Sport\", \"Topics/Opinion\", \"Topics/Lifestyle\", \"Topics/News\", \"Topics/News\", \"Topics/Sport\", \"Topics/Lifestyle\", \"Topics/News\", \"Topics\", \"Topics\", \"Topics\", \"Topics\", \"Topics\", \"\"], \"type\": \"treemap\", \"values\": [1.0, 4.0, 5.0, 6.0, 2.0, 5.0, 3.0, 2.0, 1.0, 4.0, 2.0, 5.0, 2.0, 7.0, 3.0, 2.0, 5.0, 5.0, 7.0, 3.0, 7.0, 6.0, 1.0, 5.0, 1.0, 8.0, 3.0, 7.0, 6.0, 4.0, 3.0, 6.0, 1.0, 1.0, 3.0, 2.0, 7.0, 4.0, 8.0, 5.0, 7.0, 7.0, 28.0, 2.0, 4.0, 3.0, 3.0, 4.0, 1.0, 4.0, 13.0, 17.0, 5.0, 0.001, 4.0, 0.001, 29.0, 7.0, 2.0, 7.0, 6.0, 0.001, 7.0, 6.0, 4.0, 3.0, 1.0, 5.0, 1.0, 5.0, 2.0, 0.001, 1.0, 2.0, 5.0, 4.0, 1.0, 6.0, 6.0, 3.0, 2.0, 0.001, 29.0, 6.0, 3.0, 0.001, 33.0, 36.0, 22.006, 182.0, 20.0, 41.0, 301.00599999999986]}],                        {\"legend\": {\"tracegroupgap\": 0}, \"margin\": {\"t\": 60}, \"template\": {\"data\": {\"bar\": [{\"error_x\": {\"color\": \"#2a3f5f\"}, \"error_y\": {\"color\": \"#2a3f5f\"}, \"marker\": {\"line\": {\"color\": \"#E5ECF6\", \"width\": 0.5}}, \"type\": \"bar\"}], \"barpolar\": [{\"marker\": {\"line\": {\"color\": \"#E5ECF6\", \"width\": 0.5}}, \"type\": \"barpolar\"}], \"carpet\": [{\"aaxis\": {\"endlinecolor\": \"#2a3f5f\", \"gridcolor\": \"white\", \"linecolor\": \"white\", \"minorgridcolor\": \"white\", \"startlinecolor\": \"#2a3f5f\"}, \"baxis\": {\"endlinecolor\": \"#2a3f5f\", \"gridcolor\": \"white\", \"linecolor\": \"white\", \"minorgridcolor\": \"white\", \"startlinecolor\": \"#2a3f5f\"}, \"type\": \"carpet\"}], \"choropleth\": [{\"colorbar\": {\"outlinewidth\": 0, \"ticks\": \"\"}, \"type\": \"choropleth\"}], \"contour\": [{\"colorbar\": {\"outlinewidth\": 0, \"ticks\": \"\"}, \"colorscale\": [[0.0, \"#0d0887\"], [0.1111111111111111, \"#46039f\"], [0.2222222222222222, \"#7201a8\"], [0.3333333333333333, \"#9c179e\"], [0.4444444444444444, \"#bd3786\"], [0.5555555555555556, \"#d8576b\"], [0.6666666666666666, \"#ed7953\"], [0.7777777777777778, \"#fb9f3a\"], [0.8888888888888888, \"#fdca26\"], [1.0, \"#f0f921\"]], \"type\": \"contour\"}], \"contourcarpet\": [{\"colorbar\": {\"outlinewidth\": 0, \"ticks\": \"\"}, \"type\": \"contourcarpet\"}], \"heatmap\": [{\"colorbar\": {\"outlinewidth\": 0, \"ticks\": \"\"}, \"colorscale\": [[0.0, \"#0d0887\"], [0.1111111111111111, \"#46039f\"], [0.2222222222222222, \"#7201a8\"], [0.3333333333333333, \"#9c179e\"], [0.4444444444444444, \"#bd3786\"], [0.5555555555555556, \"#d8576b\"], [0.6666666666666666, \"#ed7953\"], [0.7777777777777778, \"#fb9f3a\"], [0.8888888888888888, \"#fdca26\"], [1.0, \"#f0f921\"]], \"type\": \"heatmap\"}], \"heatmapgl\": [{\"colorbar\": {\"outlinewidth\": 0, \"ticks\": \"\"}, \"colorscale\": [[0.0, \"#0d0887\"], [0.1111111111111111, \"#46039f\"], [0.2222222222222222, \"#7201a8\"], [0.3333333333333333, \"#9c179e\"], [0.4444444444444444, \"#bd3786\"], [0.5555555555555556, \"#d8576b\"], [0.6666666666666666, \"#ed7953\"], [0.7777777777777778, \"#fb9f3a\"], [0.8888888888888888, \"#fdca26\"], [1.0, \"#f0f921\"]], \"type\": \"heatmapgl\"}], \"histogram\": [{\"marker\": {\"colorbar\": {\"outlinewidth\": 0, \"ticks\": \"\"}}, \"type\": \"histogram\"}], \"histogram2d\": [{\"colorbar\": {\"outlinewidth\": 0, \"ticks\": \"\"}, \"colorscale\": [[0.0, \"#0d0887\"], [0.1111111111111111, \"#46039f\"], [0.2222222222222222, \"#7201a8\"], [0.3333333333333333, \"#9c179e\"], [0.4444444444444444, \"#bd3786\"], [0.5555555555555556, \"#d8576b\"], [0.6666666666666666, \"#ed7953\"], [0.7777777777777778, \"#fb9f3a\"], [0.8888888888888888, \"#fdca26\"], [1.0, \"#f0f921\"]], \"type\": \"histogram2d\"}], \"histogram2dcontour\": [{\"colorbar\": {\"outlinewidth\": 0, \"ticks\": \"\"}, \"colorscale\": [[0.0, \"#0d0887\"], [0.1111111111111111, \"#46039f\"], [0.2222222222222222, \"#7201a8\"], [0.3333333333333333, \"#9c179e\"], [0.4444444444444444, \"#bd3786\"], [0.5555555555555556, \"#d8576b\"], [0.6666666666666666, \"#ed7953\"], [0.7777777777777778, \"#fb9f3a\"], [0.8888888888888888, \"#fdca26\"], [1.0, \"#f0f921\"]], \"type\": \"histogram2dcontour\"}], \"mesh3d\": [{\"colorbar\": {\"outlinewidth\": 0, \"ticks\": \"\"}, \"type\": \"mesh3d\"}], \"parcoords\": [{\"line\": {\"colorbar\": {\"outlinewidth\": 0, \"ticks\": \"\"}}, \"type\": \"parcoords\"}], \"pie\": [{\"automargin\": true, \"type\": \"pie\"}], \"scatter\": [{\"marker\": {\"colorbar\": {\"outlinewidth\": 0, \"ticks\": \"\"}}, \"type\": \"scatter\"}], \"scatter3d\": [{\"line\": {\"colorbar\": {\"outlinewidth\": 0, \"ticks\": \"\"}}, \"marker\": {\"colorbar\": {\"outlinewidth\": 0, \"ticks\": \"\"}}, \"type\": \"scatter3d\"}], \"scattercarpet\": [{\"marker\": {\"colorbar\": {\"outlinewidth\": 0, \"ticks\": \"\"}}, \"type\": \"scattercarpet\"}], \"scattergeo\": [{\"marker\": {\"colorbar\": {\"outlinewidth\": 0, \"ticks\": \"\"}}, \"type\": \"scattergeo\"}], \"scattergl\": [{\"marker\": {\"colorbar\": {\"outlinewidth\": 0, \"ticks\": \"\"}}, \"type\": \"scattergl\"}], \"scattermapbox\": [{\"marker\": {\"colorbar\": {\"outlinewidth\": 0, \"ticks\": \"\"}}, \"type\": \"scattermapbox\"}], \"scatterpolar\": [{\"marker\": {\"colorbar\": {\"outlinewidth\": 0, \"ticks\": \"\"}}, \"type\": \"scatterpolar\"}], \"scatterpolargl\": [{\"marker\": {\"colorbar\": {\"outlinewidth\": 0, \"ticks\": \"\"}}, \"type\": \"scatterpolargl\"}], \"scatterternary\": [{\"marker\": {\"colorbar\": {\"outlinewidth\": 0, \"ticks\": \"\"}}, \"type\": \"scatterternary\"}], \"surface\": [{\"colorbar\": {\"outlinewidth\": 0, \"ticks\": \"\"}, \"colorscale\": [[0.0, \"#0d0887\"], [0.1111111111111111, \"#46039f\"], [0.2222222222222222, \"#7201a8\"], [0.3333333333333333, \"#9c179e\"], [0.4444444444444444, \"#bd3786\"], [0.5555555555555556, \"#d8576b\"], [0.6666666666666666, \"#ed7953\"], [0.7777777777777778, \"#fb9f3a\"], [0.8888888888888888, \"#fdca26\"], [1.0, \"#f0f921\"]], \"type\": \"surface\"}], \"table\": [{\"cells\": {\"fill\": {\"color\": \"#EBF0F8\"}, \"line\": {\"color\": \"white\"}}, \"header\": {\"fill\": {\"color\": \"#C8D4E3\"}, \"line\": {\"color\": \"white\"}}, \"type\": \"table\"}]}, \"layout\": {\"annotationdefaults\": {\"arrowcolor\": \"#2a3f5f\", \"arrowhead\": 0, \"arrowwidth\": 1}, \"autotypenumbers\": \"strict\", \"coloraxis\": {\"colorbar\": {\"outlinewidth\": 0, \"ticks\": \"\"}}, \"colorscale\": {\"diverging\": [[0, \"#8e0152\"], [0.1, \"#c51b7d\"], [0.2, \"#de77ae\"], [0.3, \"#f1b6da\"], [0.4, \"#fde0ef\"], [0.5, \"#f7f7f7\"], [0.6, \"#e6f5d0\"], [0.7, \"#b8e186\"], [0.8, \"#7fbc41\"], [0.9, \"#4d9221\"], [1, \"#276419\"]], \"sequential\": [[0.0, \"#0d0887\"], [0.1111111111111111, \"#46039f\"], [0.2222222222222222, \"#7201a8\"], [0.3333333333333333, \"#9c179e\"], [0.4444444444444444, \"#bd3786\"], [0.5555555555555556, \"#d8576b\"], [0.6666666666666666, \"#ed7953\"], [0.7777777777777778, \"#fb9f3a\"], [0.8888888888888888, \"#fdca26\"], [1.0, \"#f0f921\"]], \"sequentialminus\": [[0.0, \"#0d0887\"], [0.1111111111111111, \"#46039f\"], [0.2222222222222222, \"#7201a8\"], [0.3333333333333333, \"#9c179e\"], [0.4444444444444444, \"#bd3786\"], [0.5555555555555556, \"#d8576b\"], [0.6666666666666666, \"#ed7953\"], [0.7777777777777778, \"#fb9f3a\"], [0.8888888888888888, \"#fdca26\"], [1.0, \"#f0f921\"]]}, \"colorway\": [\"#636efa\", \"#EF553B\", \"#00cc96\", \"#ab63fa\", \"#FFA15A\", \"#19d3f3\", \"#FF6692\", \"#B6E880\", \"#FF97FF\", \"#FECB52\"], \"font\": {\"color\": \"#2a3f5f\"}, \"geo\": {\"bgcolor\": \"white\", \"lakecolor\": \"white\", \"landcolor\": \"#E5ECF6\", \"showlakes\": true, \"showland\": true, \"subunitcolor\": \"white\"}, \"hoverlabel\": {\"align\": \"left\"}, \"hovermode\": \"closest\", \"mapbox\": {\"style\": \"light\"}, \"paper_bgcolor\": \"white\", \"plot_bgcolor\": \"#E5ECF6\", \"polar\": {\"angularaxis\": {\"gridcolor\": \"white\", \"linecolor\": \"white\", \"ticks\": \"\"}, \"bgcolor\": \"#E5ECF6\", \"radialaxis\": {\"gridcolor\": \"white\", \"linecolor\": \"white\", \"ticks\": \"\"}}, \"scene\": {\"xaxis\": {\"backgroundcolor\": \"#E5ECF6\", \"gridcolor\": \"white\", \"gridwidth\": 2, \"linecolor\": \"white\", \"showbackground\": true, \"ticks\": \"\", \"zerolinecolor\": \"white\"}, \"yaxis\": {\"backgroundcolor\": \"#E5ECF6\", \"gridcolor\": \"white\", \"gridwidth\": 2, \"linecolor\": \"white\", \"showbackground\": true, \"ticks\": \"\", \"zerolinecolor\": \"white\"}, \"zaxis\": {\"backgroundcolor\": \"#E5ECF6\", \"gridcolor\": \"white\", \"gridwidth\": 2, \"linecolor\": \"white\", \"showbackground\": true, \"ticks\": \"\", \"zerolinecolor\": \"white\"}}, \"shapedefaults\": {\"line\": {\"color\": \"#2a3f5f\"}}, \"ternary\": {\"aaxis\": {\"gridcolor\": \"white\", \"linecolor\": \"white\", \"ticks\": \"\"}, \"baxis\": {\"gridcolor\": \"white\", \"linecolor\": \"white\", \"ticks\": \"\"}, \"bgcolor\": \"#E5ECF6\", \"caxis\": {\"gridcolor\": \"white\", \"linecolor\": \"white\", \"ticks\": \"\"}}, \"title\": {\"x\": 0.05}, \"xaxis\": {\"automargin\": true, \"gridcolor\": \"white\", \"linecolor\": \"white\", \"ticks\": \"\", \"title\": {\"standoff\": 15}, \"zerolinecolor\": \"white\", \"zerolinewidth\": 2}, \"yaxis\": {\"automargin\": true, \"gridcolor\": \"white\", \"linecolor\": \"white\", \"ticks\": \"\", \"title\": {\"standoff\": 15}, \"zerolinecolor\": \"white\", \"zerolinewidth\": 2}}}},                        {\"responsive\": true}                    ).then(function(){\n",
              "                            \n",
              "var gd = document.getElementById('acbe72bc-d809-49dc-8045-759ba9af3343');\n",
              "var x = new MutationObserver(function (mutations, observer) {{\n",
              "        var display = window.getComputedStyle(gd).display;\n",
              "        if (!display || display === 'none') {{\n",
              "            console.log([gd, 'removed!']);\n",
              "            Plotly.purge(gd);\n",
              "            observer.disconnect();\n",
              "        }}\n",
              "}});\n",
              "\n",
              "// Listen for the removal of the full notebook cells\n",
              "var notebookContainer = gd.closest('#notebook-container');\n",
              "if (notebookContainer) {{\n",
              "    x.observe(notebookContainer, {childList: true});\n",
              "}}\n",
              "\n",
              "// Listen for the clearing of the current output cell\n",
              "var outputEl = gd.closest('.output');\n",
              "if (outputEl) {{\n",
              "    x.observe(outputEl, {childList: true});\n",
              "}}\n",
              "\n",
              "                        })                };                            </script>        </div>\n",
              "</body>\n",
              "</html>"
            ]
          },
          "metadata": {
            "tags": []
          }
        }
      ]
    },
    {
      "cell_type": "code",
      "metadata": {
        "id": "4JZFqS26Nqjs"
      },
      "source": [
        ""
      ],
      "execution_count": null,
      "outputs": []
    }
  ]
}