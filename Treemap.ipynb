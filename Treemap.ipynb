{
  "nbformat": 4,
  "nbformat_minor": 0,
  "metadata": {
    "colab": {
      "name": "Treemap.ipynb",
      "provenance": [],
      "collapsed_sections": [],
      "authorship_tag": "ABX9TyNVsmIJ1XoYq9HS+HO7wOAi",
      "include_colab_link": true
    },
    "kernelspec": {
      "name": "python3",
      "display_name": "Python 3"
    },
    "language_info": {
      "name": "python"
    }
  },
  "cells": [
    {
      "cell_type": "markdown",
      "metadata": {
        "id": "view-in-github",
        "colab_type": "text"
      },
      "source": [
        "<a href=\"https://colab.research.google.com/github/tashinam/news/blob/main/Treemap.ipynb\" target=\"_parent\"><img src=\"https://colab.research.google.com/assets/colab-badge.svg\" alt=\"Open In Colab\"/></a>"
      ]
    },
    {
      "cell_type": "code",
      "metadata": {
        "id": "GDGAVcbdqqE9",
        "cellView": "form"
      },
      "source": [
        "#@title (Restart runtime after running this cell)\n",
        "%%capture\n",
        "!pip install plotly -U\n",
        "!git clone https://github.com/tashinam/news.git"
      ],
      "execution_count": null,
      "outputs": []
    },
    {
      "cell_type": "code",
      "metadata": {
        "id": "WW1VZBdkrEuL",
        "cellView": "form"
      },
      "source": [
        "#@title Your News Topics\n",
        "import pandas as pd\n",
        "import plotly.express as px\n",
        "import numpy as np\n",
        "\n",
        "topics = pd.read_csv('/content/news/0002.csv')\n",
        "topics_df = pd.DataFrame.from_dict(topics)\n",
        "topics_df[\"news\"] = \"news\"\n",
        "fig = px.treemap(topics_df, path=['Topic 0','Topic 1', 'Topic 2', 'Topic 3'], values='Value')\n",
        "fig.show()"
      ],
      "execution_count": null,
      "outputs": []
    }
  ]
}